{
 "cells": [
  {
   "cell_type": "code",
   "execution_count": 1,
   "id": "3b5d10a0-8738-49af-bf77-8cb58980eebb",
   "metadata": {},
   "outputs": [
    {
     "data": {
      "text/plain": [
       "\"Q1. Explain the difference between simple linear regression and multiple linear regression. Provide an example of each.\\n\\n    Ans: Simple linear regression is a statistical method that examines the relationship between two continuous variables. \\n         It involves one independent variable and one dependent variable, and aims to find a linear relationship between them. \\n         An example of simple linear regression is analyzing the relationship between a person's height and weight.\\n         Multiple linear regression, involves examining the relationship between multiple independent variables and one dependent variable. \\n         It aims to find a linear relationship between the independent variables and the dependent variable. \\n         An example of multiple linear regression is analyzing the relationship between a person's salary and their level of education, years of experience, and age.\\n\""
      ]
     },
     "execution_count": 1,
     "metadata": {},
     "output_type": "execute_result"
    }
   ],
   "source": [
    "\"\"\"Q1. Explain the difference between simple linear regression and multiple linear regression. Provide an example of each.\n",
    "\n",
    "    Ans: Simple linear regression is a statistical method that examines the relationship between two continuous variables. \n",
    "         It involves one independent variable and one dependent variable, and aims to find a linear relationship between them. \n",
    "         An example of simple linear regression is analyzing the relationship between a person's height and weight.\n",
    "         Multiple linear regression, involves examining the relationship between multiple independent variables and one dependent variable. \n",
    "         It aims to find a linear relationship between the independent variables and the dependent variable. \n",
    "         An example of multiple linear regression is analyzing the relationship between a person's salary and their level of education, years of experience, and age.\n",
    "\"\"\""
   ]
  },
  {
   "cell_type": "code",
   "execution_count": 2,
   "id": "c0fa95db-8d21-4d0f-b8df-5ba717c47f58",
   "metadata": {},
   "outputs": [
    {
     "data": {
      "text/plain": [
       "'Q2. Discuss the assumptions of linear regression. How can you check whether these assumptions hold in a given dataset?\\n\\n    Ans: Linear regression assumes that there is a linear relationship between the independent and dependent variables, the residuals are normally distributed, \\n         the variance of the residuals is constant across the range of the independent variable, and there is no multicollinearity among independent variables. \\n         These assumptions can be checked by analyzing residual plots, Q-Q plots, and correlation matrices.\\n'"
      ]
     },
     "execution_count": 2,
     "metadata": {},
     "output_type": "execute_result"
    }
   ],
   "source": [
    "\"\"\"Q2. Discuss the assumptions of linear regression. How can you check whether these assumptions hold in a given dataset?\n",
    "\n",
    "    Ans: Linear regression assumes that there is a linear relationship between the independent and dependent variables, the residuals are normally distributed, \n",
    "         the variance of the residuals is constant across the range of the independent variable, and there is no multicollinearity among independent variables. \n",
    "         These assumptions can be checked by analyzing residual plots, Q-Q plots, and correlation matrices.\n",
    "\"\"\""
   ]
  },
  {
   "cell_type": "code",
   "execution_count": 3,
   "id": "1dc79b9e-3536-4630-9a2d-ac958e107377",
   "metadata": {},
   "outputs": [
    {
     "data": {
      "text/plain": [
       "'Q3. How do you interpret the slope and intercept in a linear regression model? Provide an example using a real-world scenario.\\n\\n    Ans: In a linear regression model, the slope represents the rate of change of the dependent variable with respect to the independent variable, \\n         while the intercept represents the value of the dependent variable when the independent variable is zero. \\n         For example, in a model predicting house prices based on square footage, the slope represents the increase in price per square foot, \\n         and the intercept represents the base price of a house with zero square footage.\\n'"
      ]
     },
     "execution_count": 3,
     "metadata": {},
     "output_type": "execute_result"
    }
   ],
   "source": [
    "\"\"\"Q3. How do you interpret the slope and intercept in a linear regression model? Provide an example using a real-world scenario.\n",
    "\n",
    "    Ans: In a linear regression model, the slope represents the rate of change of the dependent variable with respect to the independent variable, \n",
    "         while the intercept represents the value of the dependent variable when the independent variable is zero. \n",
    "         For example, in a model predicting house prices based on square footage, the slope represents the increase in price per square foot, \n",
    "         and the intercept represents the base price of a house with zero square footage.\n",
    "\"\"\""
   ]
  },
  {
   "cell_type": "code",
   "execution_count": 4,
   "id": "7d77da12-c14a-455f-b070-366912f847ed",
   "metadata": {},
   "outputs": [
    {
     "data": {
      "text/plain": [
       "'Q4. Explain the concept of gradient descent. How is it used in machine learning?\\n\\n    Ans: Gradient descent is a method used in machine learning to find the best values for the parameters of a model by iteratively adjusting them to minimize \\n         the error between predicted and actual outcomes. It does this by calculating the gradient of the error function with respect to the parameters and \\n         taking small steps in the direction of steepest descent until it reaches a minimum.\\n'"
      ]
     },
     "execution_count": 4,
     "metadata": {},
     "output_type": "execute_result"
    }
   ],
   "source": [
    "\"\"\"Q4. Explain the concept of gradient descent. How is it used in machine learning?\n",
    "\n",
    "    Ans: Gradient descent is a method used in machine learning to find the best values for the parameters of a model by iteratively adjusting them to minimize \n",
    "         the error between predicted and actual outcomes. It does this by calculating the gradient of the error function with respect to the parameters and \n",
    "         taking small steps in the direction of steepest descent until it reaches a minimum.\n",
    "\"\"\""
   ]
  },
  {
   "cell_type": "code",
   "execution_count": 5,
   "id": "13bd3d56-e42e-48c9-9fab-150f6a3775d1",
   "metadata": {},
   "outputs": [
    {
     "data": {
      "text/plain": [
       "'Q5. Describe the multiple linear regression model. How does it differ from simple linear regression?\\n\\n    Ans: Multiple linear regression is a statistical method that helps us understand the relationship between multiple independent variables and a dependent variable. \\n         Unlike simple linear regression, which only uses one independent variable, multiple linear regression considers several independent variables that can impact \\n         the dependent variable.\\n'"
      ]
     },
     "execution_count": 5,
     "metadata": {},
     "output_type": "execute_result"
    }
   ],
   "source": [
    "\"\"\"Q5. Describe the multiple linear regression model. How does it differ from simple linear regression?\n",
    "\n",
    "    Ans: Multiple linear regression is a statistical method that helps us understand the relationship between multiple independent variables and a dependent variable. \n",
    "         Unlike simple linear regression, which only uses one independent variable, multiple linear regression considers several independent variables that can impact \n",
    "         the dependent variable.\n",
    "\"\"\""
   ]
  },
  {
   "cell_type": "code",
   "execution_count": 6,
   "id": "0e7c48ec-0581-4ac0-b742-c83134f57d6a",
   "metadata": {},
   "outputs": [
    {
     "data": {
      "text/plain": [
       "'Q6. Explain the concept of multicollinearity in multiple linear regression. How can you detect and address this issue?\\n\\n    Ans: Multicollinearity is a problem in multiple linear regression where the independent variables are highly correlated with each other. \\n         This can cause issues in accurately estimating the effect of each independent variable on the dependent variable. \\n         To detect and address multicollinearity, one can use correlation matrices and variance inflation factors (VIF) to identify highly correlated variables and \\n         remove them or use regularization techniques to reduce their impact.\\n'"
      ]
     },
     "execution_count": 6,
     "metadata": {},
     "output_type": "execute_result"
    }
   ],
   "source": [
    "\"\"\"Q6. Explain the concept of multicollinearity in multiple linear regression. How can you detect and address this issue?\n",
    "\n",
    "    Ans: Multicollinearity is a problem in multiple linear regression where the independent variables are highly correlated with each other. \n",
    "         This can cause issues in accurately estimating the effect of each independent variable on the dependent variable. \n",
    "         To detect and address multicollinearity, one can use correlation matrices and variance inflation factors (VIF) to identify highly correlated variables and \n",
    "         remove them or use regularization techniques to reduce their impact.\n",
    "\"\"\""
   ]
  },
  {
   "cell_type": "code",
   "execution_count": 7,
   "id": "92f4a7a8-755d-4dbf-b489-4d66eaa64cc3",
   "metadata": {},
   "outputs": [
    {
     "data": {
      "text/plain": [
       "'Q7. Describe the polynomial regression model. How is it different from linear regression?\\n\\n    Ans: Polynomial regression is a type of regression analysis where the relationship between the independent variable (X) and the dependent variable (Y) \\n         is modeled as an nth degree polynomial. It differs from linear regression as it allows for a curved relationship between X and Y, rather than assuming a straight line.\\n'"
      ]
     },
     "execution_count": 7,
     "metadata": {},
     "output_type": "execute_result"
    }
   ],
   "source": [
    "\"\"\"Q7. Describe the polynomial regression model. How is it different from linear regression?\n",
    "\n",
    "    Ans: Polynomial regression is a type of regression analysis where the relationship between the independent variable (X) and the dependent variable (Y) \n",
    "         is modeled as an nth degree polynomial. It differs from linear regression as it allows for a curved relationship between X and Y, rather than assuming a straight line.\n",
    "\"\"\""
   ]
  },
  {
   "cell_type": "code",
   "execution_count": 8,
   "id": "5da6b52c-cada-4212-a4f1-0732fa4c9e54",
   "metadata": {},
   "outputs": [
    {
     "data": {
      "text/plain": [
       "'Q8. What are the advantages and disadvantages of polynomial regression compared to linear regression? In what situations would you prefer to use polynomial regression?\\n\\n    Ans: Advantages:\\n            1. Polynomial regression can capture non-linear relationships between variables that linear regression cannot. \\n            2. Polynomial regression can provide a better fit to the data than linear regression. \\n         Disadvantages:\\n            1. Polynomial regression can be more complex than linear regression, which can lead to overfitting if the model is not carefully tuned. \\n            2. Polynomial regression can be sensitive to outliers.\\n         Situations where polynomial regression is preferred:\\n            1. When there is a non-linear relationship between the dependent variable and independent variable(s).\\n            2. When a higher degree of accuracy is required in the predictions.\\n            3. When there is enough data to fit a complex model without overfitting.\\n'"
      ]
     },
     "execution_count": 8,
     "metadata": {},
     "output_type": "execute_result"
    }
   ],
   "source": [
    "\"\"\"Q8. What are the advantages and disadvantages of polynomial regression compared to linear regression? In what situations would you prefer to use polynomial regression?\n",
    "\n",
    "    Ans: Advantages:\n",
    "            1. Polynomial regression can capture non-linear relationships between variables that linear regression cannot. \n",
    "            2. Polynomial regression can provide a better fit to the data than linear regression. \n",
    "         Disadvantages:\n",
    "            1. Polynomial regression can be more complex than linear regression, which can lead to overfitting if the model is not carefully tuned. \n",
    "            2. Polynomial regression can be sensitive to outliers.\n",
    "         Situations where polynomial regression is preferred:\n",
    "            1. When there is a non-linear relationship between the dependent variable and independent variable(s).\n",
    "            2. When a higher degree of accuracy is required in the predictions.\n",
    "            3. When there is enough data to fit a complex model without overfitting.\n",
    "\"\"\""
   ]
  },
  {
   "cell_type": "code",
   "execution_count": null,
   "id": "891036b9-74e9-48a6-a3c9-0f886c0fd036",
   "metadata": {},
   "outputs": [],
   "source": []
  }
 ],
 "metadata": {
  "kernelspec": {
   "display_name": "Python 3 (ipykernel)",
   "language": "python",
   "name": "python3"
  },
  "language_info": {
   "codemirror_mode": {
    "name": "ipython",
    "version": 3
   },
   "file_extension": ".py",
   "mimetype": "text/x-python",
   "name": "python",
   "nbconvert_exporter": "python",
   "pygments_lexer": "ipython3",
   "version": "3.10.8"
  }
 },
 "nbformat": 4,
 "nbformat_minor": 5
}
